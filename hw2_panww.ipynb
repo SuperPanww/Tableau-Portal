{
  "nbformat": 4,
  "nbformat_minor": 0,
  "metadata": {
    "colab": {
      "name": "hw2-panww",
      "provenance": [],
      "machine_shape": "hm",
      "authorship_tag": "ABX9TyPiU2cikjxL5l1chfaPdkMF",
      "include_colab_link": true
    },
    "kernelspec": {
      "name": "python3",
      "display_name": "Python 3"
    }
  },
  "cells": [
    {
      "cell_type": "markdown",
      "metadata": {
        "id": "view-in-github",
        "colab_type": "text"
      },
      "source": [
        "<a href=\"https://colab.research.google.com/github/SuperPanww/courses_ML20/blob/master/hw2_panww.ipynb\" target=\"_parent\"><img src=\"https://colab.research.google.com/assets/colab-badge.svg\" alt=\"Open In Colab\"/></a>"
      ]
    },
    {
      "cell_type": "code",
      "metadata": {
        "id": "fDyw3MCSmBJo",
        "colab_type": "code",
        "colab": {
          "base_uri": "https://localhost:8080/",
          "height": 216
        },
        "outputId": "3e5d3573-7a84-4eb0-9037-8f79b0c8ea6e"
      },
      "source": [
        "!gdown --id '1KSFIRh0-_Vr7SdiSCZP1ItV7bXPxMD92' --output data.tar.gz\n",
        "!tar -zxvf data.tar.gz\n",
        "!ls"
      ],
      "execution_count": 1,
      "outputs": [
        {
          "output_type": "stream",
          "text": [
            "Downloading...\n",
            "From: https://drive.google.com/uc?id=1KSFIRh0-_Vr7SdiSCZP1ItV7bXPxMD92\n",
            "To: /content/data.tar.gz\n",
            "6.11MB [00:00, 54.0MB/s]\n",
            "data/\n",
            "data/sample_submission.csv\n",
            "data/test_no_label.csv\n",
            "data/train.csv\n",
            "data/X_test\n",
            "data/X_train\n",
            "data/Y_train\n",
            "data  data.tar.gz  sample_data\n"
          ],
          "name": "stdout"
        }
      ]
    },
    {
      "cell_type": "code",
      "metadata": {
        "id": "RQCuFJuWpgij",
        "colab_type": "code",
        "colab": {}
      },
      "source": [
        "import numpy as np\n",
        "np.random.seed(0)\n",
        "X_train_fpath = './data/X_train'\n",
        "Y_train_fpath = './data/Y_train'\n",
        "X_test_fpath = './data/X_test'\n",
        "output_fpath = './output_{}.csv'\n",
        "\n",
        "with open(X_train_fpath) as f:\n",
        "  next(f)\n",
        "  X_train = np.array([line.strip('\\n').split(',')[1:] for line in f],dtype = float)\n",
        "with open(Y_train_fpath) as f:\n",
        "  next(f)\n",
        "  Y_train = np.array([line.strip('\\n').split(',')[1:] for line in f],dtype = float)\n",
        "with open(X_test_fpath) as f:\n",
        "  next(f)\n",
        "  X_test = np.array([line.strip('\\n').split(',')[1:] for line in f],dtype = float)"
      ],
      "execution_count": 0,
      "outputs": []
    },
    {
      "cell_type": "code",
      "metadata": {
        "id": "d-wE_YxDr9_X",
        "colab_type": "code",
        "colab": {}
      },
      "source": [
        "def _normalize(X,train = True,specified_colum = None,X_mean = None,X_std = None):\n",
        "  if specified_colum == None:\n",
        "    specified_colum = np.arange(X.shape[1])\n",
        "  if train:\n",
        "    X_mean = np.mean(X[:,specified_colum],0).reshape(1,-1)\n",
        "    X_std = np.std(X[:,specified_colum],0).reshape(1,-1)\n",
        "  X[:,specified_colum] = (X[:,specified_colum]-X_mean) / (X_std + 1e-8)\n",
        "  return X,X_mean,X_std"
      ],
      "execution_count": 0,
      "outputs": []
    },
    {
      "cell_type": "code",
      "metadata": {
        "id": "y01q9BIUsHw_",
        "colab_type": "code",
        "colab": {}
      },
      "source": [
        "def _train_dev_split(X,Y,dev_ratio = 0.25):\n",
        "  train_size = int(int(len(X)*(1-dev_ratio)))\n",
        "  return X[:train_size],Y[:train_size],X[train_size:],Y[train_size:]"
      ],
      "execution_count": 0,
      "outputs": []
    },
    {
      "cell_type": "code",
      "metadata": {
        "id": "G0ZGdP2mtbFu",
        "colab_type": "code",
        "colab": {
          "base_uri": "https://localhost:8080/",
          "height": 83
        },
        "outputId": "98955c94-0fa9-4332-a10f-7300e6a63e93"
      },
      "source": [
        "X_train,X_mean,X_std = _normalize(X_train,train=True)\n",
        "X_test,_,_ = _normalize(X_test,train=False,specified_colum=None,X_mean=X_mean,X_std=X_std)\n",
        "dev_ratio = 0.1\n",
        "X_train,Y_train,X_dev,Y_dev = _train_dev_split(X_train,Y_train,dev_ratio=dev_ratio)\n",
        "\n",
        "train_size = X_train.shape[0]\n",
        "dev_size = X_dev.shape[0]\n",
        "test_size = X_test.shape[0]\n",
        "data_dim = X_train.shape[1]\n",
        "\n",
        "print('Size of training set: {}'.format(train_size))\n",
        "print('Size of development set: {}'.format(dev_size))\n",
        "print('Size of testing set: {}'.format(test_size))\n",
        "print('Dimension of data: {}'.format(data_dim))"
      ],
      "execution_count": 5,
      "outputs": [
        {
          "output_type": "stream",
          "text": [
            "Size of training set: 48830\n",
            "Size of development set: 5426\n",
            "Size of testing set: 27622\n",
            "Dimension of data: 510\n"
          ],
          "name": "stdout"
        }
      ]
    },
    {
      "cell_type": "code",
      "metadata": {
        "id": "SgoQ6zM2xKWm",
        "colab_type": "code",
        "colab": {}
      },
      "source": [
        "def _shuffle(X,Y):\n",
        "  randomize = np.arange(len(X))\n",
        "  np.random.shuffle(randomize)\n",
        "  return (X[randomize],Y[randomize])"
      ],
      "execution_count": 0,
      "outputs": []
    },
    {
      "cell_type": "code",
      "metadata": {
        "id": "if2YTmRbx4VO",
        "colab_type": "code",
        "colab": {}
      },
      "source": [
        "def _sigmoid(z):\n",
        "  return np.clip(1/(1.0 + np.exp(-z)),1e-8,1-(1e-8))"
      ],
      "execution_count": 0,
      "outputs": []
    },
    {
      "cell_type": "code",
      "metadata": {
        "id": "3Im2ogfTyv3C",
        "colab_type": "code",
        "colab": {}
      },
      "source": [
        "def _f(X,w,b):\n",
        "  return _sigmoid(np.matmul(X,w)+b)"
      ],
      "execution_count": 0,
      "outputs": []
    },
    {
      "cell_type": "code",
      "metadata": {
        "id": "HDokTvNmy_4P",
        "colab_type": "code",
        "colab": {}
      },
      "source": [
        "def _predict(X,w,b):\n",
        "  return np.round(_f(X,w,b)).astype(np.int)"
      ],
      "execution_count": 0,
      "outputs": []
    },
    {
      "cell_type": "code",
      "metadata": {
        "id": "5dTtwGkDzYBb",
        "colab_type": "code",
        "colab": {}
      },
      "source": [
        "def _accuracy(Y_pred,Y_label):\n",
        "  acc = 1 - np.mean(np.abs(Y_pred - Y_label))\n",
        "\n",
        "  return acc"
      ],
      "execution_count": 0,
      "outputs": []
    },
    {
      "cell_type": "code",
      "metadata": {
        "id": "Jj7wHnT3zsR3",
        "colab_type": "code",
        "colab": {}
      },
      "source": [
        "def _cross_entropy_loss(Y_pred,Y_label):\n",
        "  cross_entropy = -np.dot(Y_pred,np.log(Y_label))-np.dot((1-Y_pred),np.log(1-Y_label))\n",
        "  return cross_entropy"
      ],
      "execution_count": 0,
      "outputs": []
    },
    {
      "cell_type": "code",
      "metadata": {
        "id": "azPNBGhUvJdT",
        "colab_type": "code",
        "colab": {}
      },
      "source": [
        "def _gradient(X,Y_label,w,b):\n",
        "  Y_pred = _f(X,w,b)\n",
        "  pred_error = Y_label-Y_pred\n",
        "  w_grad = -np.sum(np.dot(X.T,pred_error),1)\n",
        "  b_grad = -np.sum(pred_error)\n",
        "  return w_grad,b_grad"
      ],
      "execution_count": 0,
      "outputs": []
    },
    {
      "cell_type": "code",
      "metadata": {
        "id": "-_CsMcALxBea",
        "colab_type": "code",
        "colab": {
          "base_uri": "https://localhost:8080/",
          "height": 170
        },
        "outputId": "ff6a4968-f07b-4e2c-e642-f6beeeb7f5ad"
      },
      "source": [
        "w = np.zeros((data_dim))\n",
        "b = np.zeros((1,))\n",
        "\n",
        "max_iter = 10\n",
        "batch_size = 8\n",
        "learning_rate = 0.2\n",
        "\n",
        "train_loss = 10\n",
        "batch_size = 8\n",
        "learning_rate = 0.2\n",
        "\n",
        "train_loss = []\n",
        "dev_loss = []\n",
        "train_acc = []\n",
        "dev_acc = []\n",
        "\n",
        "step = 1\n",
        "for epoch in range(max_iter):\n",
        "  X_train, Y_train = _shuffle(X_train,Y_train)\n",
        " \n",
        "  for idx in range(int(np.floor(train_size / batch_size))):\n",
        "    X = X_train[idx * batch_size:(idx+1)*batch_size]\n",
        "    Y = Y_train[idx * batch_size:(idx+1)*batch_size]\n",
        "\n",
        "    w_grad,b_grad = _gradient(X,Y,w,b)\n",
        "    w = w - learning_rate/np.sqrt(step) * w_grad\n",
        "    b = b - learning_rate/np.sqrt(step) * b_grad\n",
        "    \n",
        "    step = step + 1\n",
        "\n",
        "  y_train_pred = _f(X_train,w,b)\n",
        "  Y_train_pred = np.round(y_train_pred)\n",
        "  train_acc.append(_accuracy(Y_train_pred,Y_train.T))\n",
        "  train_loss.append(_cross_entropy_loss(y_train_pred,Y_train)/train_size)\n",
        "\n",
        "  y_dev_pred = _f(X_dev,w,b)\n",
        "  Y_dev_pred = np.round(y_dev_pred)\n",
        "  dev_acc.append(_accuracy(Y_dev_pred,Y_dev.T))\n",
        "  dev_loss.append(_cross_entropy_loss(y_dev_pred,Y_dev)/dev_size)\n",
        "\n",
        "print('Training loss: {}'.format(train_loss[-1]))\n",
        "print('Development loss: {}'.format(dev_loss[-1]))\n",
        "print('Training accuracy: {}'.format(train_acc[-1]))\n",
        "print('Development accuracy: {}'.format(dev_acc[-1]))"
      ],
      "execution_count": 23,
      "outputs": [
        {
          "output_type": "stream",
          "text": [
            "/usr/local/lib/python3.6/dist-packages/ipykernel_launcher.py:2: RuntimeWarning: overflow encountered in exp\n",
            "  \n",
            "/usr/local/lib/python3.6/dist-packages/ipykernel_launcher.py:2: RuntimeWarning: divide by zero encountered in log\n",
            "  \n"
          ],
          "name": "stderr"
        },
        {
          "output_type": "stream",
          "text": [
            "Training loss: [inf]\n",
            "Development loss: [inf]\n",
            "Training accuracy: 0.7211755068605366\n",
            "Development accuracy: 0.7241061555473645\n"
          ],
          "name": "stdout"
        }
      ]
    },
    {
      "cell_type": "code",
      "metadata": {
        "id": "ZHIYvfpl2YBj",
        "colab_type": "code",
        "colab": {
          "base_uri": "https://localhost:8080/",
          "height": 545
        },
        "outputId": "7a57032d-1afd-4f4a-fc09-1cce4636641f"
      },
      "source": [
        "import matplotlib.pyplot as plt\n",
        "\n",
        "plt.plot(train_loss)\n",
        "plt.plot(dev_loss)\n",
        "plt.title('Loss')\n",
        "plt.legend(['train','dev'])\n",
        "plt.savefig('loss.png')\n",
        "plt.show()\n",
        "\n",
        "plt.plot(train_acc)\n",
        "plt.plot(dev_acc)\n",
        "plt.title('Accuracy')\n",
        "plt.legend(['train','dev'])\n",
        "plt.savefig('acc.png')\n",
        "plt.show()"
      ],
      "execution_count": 24,
      "outputs": [
        {
          "output_type": "display_data",
          "data": {
            "image/png": "[encoded data removed]",
            "text/plain": [
              "<Figure size 432x288 with 1 Axes>"
            ]
          },
          "metadata": {
            "tags": []
          }
        },
        {
          "output_type": "display_data",
          "data": {
            "image/png": "[encoded data removed]",
            "text/plain": [
              "<Figure size 432x288 with 1 Axes>"
            ]
          },
          "metadata": {
            "tags": []
          }
        }
      ]
    },
    {
      "cell_type": "code",
      "metadata": {
        "id": "bk7tXhbh3e3N",
        "colab_type": "code",
        "colab": {
          "base_uri": "https://localhost:8080/",
          "height": 33
        },
        "outputId": "a3be2fb6-c687-4885-b86a-eb3b46c5b734"
      },
      "source": [
        "Y_train.T"
      ],
      "execution_count": 19,
      "outputs": [
        {
          "output_type": "execute_result",
          "data": {
            "text/plain": [
              "array([[0., 0., 0., ..., 0., 0., 0.]])"
            ]
          },
          "metadata": {
            "tags": []
          },
          "execution_count": 19
        }
      ]
    },
    {
      "cell_type": "code",
      "metadata": {
        "id": "TuetIr_q734C",
        "colab_type": "code",
        "colab": {}
      },
      "source": [
        ""
      ],
      "execution_count": 0,
      "outputs": []
    }
  ]
}