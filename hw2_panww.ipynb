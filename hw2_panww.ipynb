{
  "nbformat": 4,
  "nbformat_minor": 0,
  "metadata": {
    "colab": {
      "name": "hw2-panww",
      "provenance": [],
      "authorship_tag": "ABX9TyNGAty2Ljs+pZGwvrNYFZSV",
      "include_colab_link": true
    },
    "kernelspec": {
      "name": "python3",
      "display_name": "Python 3"
    }
  },
  "cells": [
    {
      "cell_type": "markdown",
      "metadata": {
        "id": "view-in-github",
        "colab_type": "text"
      },
      "source": [
        "<a href=\"https://colab.research.google.com/github/SuperPanww/courses_ML20/blob/master/hw2_panww.ipynb\" target=\"_parent\"><img src=\"https://colab.research.google.com/assets/colab-badge.svg\" alt=\"Open In Colab\"/></a>"
      ]
    },
    {
      "cell_type": "code",
      "metadata": {
        "id": "fDyw3MCSmBJo",
        "colab_type": "code",
        "colab": {
          "base_uri": "https://localhost:8080/",
          "height": 216
        },
        "outputId": "71f4e86d-5feb-4765-cf6c-b634149c7b0e"
      },
      "source": [
        "!gdown --id '1KSFIRh0-_Vr7SdiSCZP1ItV7bXPxMD92' --output data.tar.gz\n",
        "!tar -zxvf data.tar.gz\n",
        "!ls"
      ],
      "execution_count": 1,
      "outputs": [
        {
          "output_type": "stream",
          "text": [
            "Downloading...\n",
            "From: https://drive.google.com/uc?id=1KSFIRh0-_Vr7SdiSCZP1ItV7bXPxMD92\n",
            "To: /content/data.tar.gz\n",
            "\r0.00B [00:00, ?B/s]\r6.11MB [00:00, 95.1MB/s]\n",
            "data/\n",
            "data/sample_submission.csv\n",
            "data/test_no_label.csv\n",
            "data/train.csv\n",
            "data/X_test\n",
            "data/X_train\n",
            "data/Y_train\n",
            "data  data.tar.gz  sample_data\n"
          ],
          "name": "stdout"
        }
      ]
    },
    {
      "cell_type": "code",
      "metadata": {
        "id": "RQCuFJuWpgij",
        "colab_type": "code",
        "colab": {}
      },
      "source": [
        "import numpy as np\n",
        "np.random.seed(0)\n",
        "X_train_fpath = './data/X_train'\n",
        "Y_train_fpath = './data/Y_train'\n",
        "X_test_fpath = './data/X_test'\n",
        "output_fpath = './output_{}.csv'\n",
        "\n",
        "with open(X_train_fpath) as f:\n",
        "  next(f)\n",
        "  X_train = np.array([line.strip('\\n').split(',')[1:] for line in f],dtype = float)\n",
        "with open(Y_train_fpath) as f:\n",
        "  next(f)\n",
        "  Y_train = np.array([line.strip('\\n').split(',')[1:] for line in f],dtype = float)\n",
        "with open(X_test_fpath) as f:\n",
        "  next(f)\n",
        "  X_test = np.array([line.strip('\\n').split(',')[1:] for line in f],dtype = float)"
      ],
      "execution_count": 0,
      "outputs": []
    },
    {
      "cell_type": "code",
      "metadata": {
        "id": "d-wE_YxDr9_X",
        "colab_type": "code",
        "colab": {}
      },
      "source": [
        "def _normalize(X,train = True,specified_colum = None,X_mean = None,X_std = None):\n",
        "  if specified_colum == None:\n",
        "    specified_colum = np.arange(X.shape[1])\n",
        "  if train:\n",
        "    X_mean = np.mean(X[:,specified_colum],0).reshape(1,-1)\n",
        "    X_std = np.std(X[:,specified_colum],0).reshape(1,-1)\n",
        "  X[:,specified_colum] = (X[:,specified_colum]-X_mean) / (X_std + 1e-8)\n",
        "  return X,X_mean,X_std"
      ],
      "execution_count": 0,
      "outputs": []
    },
    {
      "cell_type": "code",
      "metadata": {
        "id": "y01q9BIUsHw_",
        "colab_type": "code",
        "colab": {}
      },
      "source": [
        "def _train_dev_split(X,Y,dev_ratio = 0.25):\n",
        "  train_size = int(int(len(X)*(1-dev_ratio)))\n",
        "  return X[:train_size],Y[:train_size],X[train_size:],Y[train_size:]"
      ],
      "execution_count": 0,
      "outputs": []
    },
    {
      "cell_type": "code",
      "metadata": {
        "id": "G0ZGdP2mtbFu",
        "colab_type": "code",
        "colab": {
          "base_uri": "https://localhost:8080/",
          "height": 83
        },
        "outputId": "d9a2d7dd-2267-4d31-d0c8-fd18195fe392"
      },
      "source": [
        "X_train,X_mean,X_std = _normalize(X_train,train=True)\n",
        "X_test,_,_ = _normalize(X_test,train=False,specified_colum=None,X_mean=X_mean,X_std=X_std)\n",
        "dev_ratio = 0.1\n",
        "X_train,Y_train,X_dev,Y_dev = _train_dev_split(X_train,Y_train,dev_ratio=dev_ratio)\n",
        "\n",
        "train_size = X_train.shape[0]\n",
        "dev_size = X_dev.shape[0]\n",
        "test_size = X_test.shape[0]\n",
        "data_dim = X_train.shape[1]\n",
        "\n",
        "print('Size of training set: {}'.format(train_size))\n",
        "print('Size of development set: {}'.format(dev_size))\n",
        "print('Size of testing set: {}'.format(test_size))\n",
        "print('Dimension of data: {}'.format(data_dim))"
      ],
      "execution_count": 9,
      "outputs": [
        {
          "output_type": "stream",
          "text": [
            "Size of training set: 48830\n",
            "Size of development set: 5426\n",
            "Size of testing set: 27622\n",
            "Dimension of data: 510\n"
          ],
          "name": "stdout"
        }
      ]
    },
    {
      "cell_type": "code",
      "metadata": {
        "id": "SgoQ6zM2xKWm",
        "colab_type": "code",
        "colab": {}
      },
      "source": [
        "def _shuffle(X,Y):\n",
        "  randomize = np.arange(len(X))\n",
        "  np.random.shuffle(randomize)\n",
        "  return (X[randomize],Y[randomize])"
      ],
      "execution_count": 0,
      "outputs": []
    },
    {
      "cell_type": "code",
      "metadata": {
        "id": "if2YTmRbx4VO",
        "colab_type": "code",
        "colab": {}
      },
      "source": [
        "def _sigmoid(z):\n",
        "  return np.clip(1/(1.0 + np.exp(-z)),1e-8,1-(1e-8))"
      ],
      "execution_count": 0,
      "outputs": []
    },
    {
      "cell_type": "code",
      "metadata": {
        "id": "3Im2ogfTyv3C",
        "colab_type": "code",
        "colab": {}
      },
      "source": [
        "def _f(X,w,b):\n",
        "  return _sigmoid(np.matmul(X,w)+b)"
      ],
      "execution_count": 0,
      "outputs": []
    },
    {
      "cell_type": "code",
      "metadata": {
        "id": "HDokTvNmy_4P",
        "colab_type": "code",
        "colab": {}
      },
      "source": [
        "def _predict(X,w,b):\n",
        "  return np.round(_f(X,w,b)).astype(np.int)"
      ],
      "execution_count": 0,
      "outputs": []
    },
    {
      "cell_type": "code",
      "metadata": {
        "id": "5dTtwGkDzYBb",
        "colab_type": "code",
        "colab": {}
      },
      "source": [
        "def _accuracy(Y_pred,Y_label):\n",
        "  acc = 1 - np.mean(np.abs(Y_pred - Y_label))\n",
        "  return acc"
      ],
      "execution_count": 0,
      "outputs": []
    },
    {
      "cell_type": "code",
      "metadata": {
        "id": "Jj7wHnT3zsR3",
        "colab_type": "code",
        "colab": {}
      },
      "source": [
        "def _cross_entropy_loss(y_pred,Y_label):\n",
        "  "
      ],
      "execution_count": 0,
      "outputs": []
    }
  ]
}